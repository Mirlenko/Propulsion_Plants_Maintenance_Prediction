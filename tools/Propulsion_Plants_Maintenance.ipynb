{
 "cells": [
  {
   "cell_type": "markdown",
   "metadata": {},
   "source": [
    "# Naval Propulsion Plants Maintenance Prediction"
   ]
  },
  {
   "cell_type": "markdown",
   "metadata": {},
   "source": [
    "1. [Introduction](#intro)\n",
    "2. [Explaratory Data Analysis](#eda)\n",
    "3. [Data Processing](#dp)\n",
    "4. [Model Selection](#ms)\n",
    "* [Linear Models](#linear)\n",
    "* [Ensemble Models](#ensemble)\n",
    "* [Neural Networks](#nn)\n",
    "5. [Final Prediction](#prediction)\n",
    "6. [Conclusion](#conclusion)"
   ]
  },
  {
   "cell_type": "markdown",
   "metadata": {},
   "source": [
    "<a id=\"intro\"></a>\n",
    "## Introduction"
   ]
  },
  {
   "cell_type": "markdown",
   "metadata": {},
   "source": [
    "This work is inspired by paper [Condition-Based Maintenance of Naval Propulsion\n",
    "Systems with Supervised Data Analysis](https://eprint.ncl.ac.uk/244704).\n",
    "\n",
    "As a dataset, the Naval Propulsion Plant __Data Driven Model__ simulation records were taken from [UCI repository](https://archive.ics.uci.edu/ml/datasets/Condition+Based+Maintenance+of+Naval+Propulsion+Plants#).\n",
    "\n",
    "The main issue explored within the project work is __Preventive Maintenance__, a service concept, that implies the life cycle estimation of a certain component. In comparison with the Corrective Maintenance, the PM allows to ensure a component service, repair or substitution before its breakdown, that can raise the efficiency level and reduce costs. \n",
    "\n",
    "In the current work, the __Gas Turbine__ and __Compressor__ decay state coefficients are estimated based on number of propulsion system parameters: shaft torque, rate of revolutions, compressor inlet air temperature and pressure, turbine injection control and fuel flow. To build an estimator, the ML and DL techniques are applied.\n",
    "\n"
   ]
  },
  {
   "cell_type": "code",
   "execution_count": 1,
   "metadata": {},
   "outputs": [],
   "source": [
    "import numpy as np\n",
    "import pandas as pd\n",
    "import seaborn as sns\n",
    "import matplotlib.pyplot as plt\n",
    "\n",
    "import warnings\n",
    "warnings.filterwarnings('ignore')"
   ]
  },
  {
   "cell_type": "markdown",
   "metadata": {},
   "source": [
    "### Reading the data"
   ]
  },
  {
   "cell_type": "code",
   "execution_count": 2,
   "metadata": {},
   "outputs": [],
   "source": [
    "# reading the sensors data\n",
    "raw = []\n",
    "with open('data/data.txt') as file:\n",
    "    for row in file:\n",
    "        raw.append(row.strip().split('   '))"
   ]
  },
  {
   "cell_type": "code",
   "execution_count": 3,
   "metadata": {},
   "outputs": [
    {
     "data": {
      "text/plain": [
       "['1 - Lever position (lp) [ ]',\n",
       " '2 - Ship speed (v) [knots]',\n",
       " '3 - Gas Turbine shaft torque (GTT) [kN m]',\n",
       " '4 - Gas Turbine rate of revolutions (GTn) [rpm]',\n",
       " '5 - Gas Generator rate of revolutions (GGn) [rpm]',\n",
       " '6 - Starboard Propeller Torque (Ts) [kN]',\n",
       " '7 - Port Propeller Torque (Tp) [kN]',\n",
       " '8 - HP Turbine exit temperature (T48) [C]',\n",
       " '9 - GT Compressor inlet air temperature (T1) [C]',\n",
       " '10 - GT Compressor outlet air temperature (T2) [C]',\n",
       " '11 - HP Turbine exit pressure (P48) [bar]',\n",
       " '12 - GT Compressor inlet air pressure (P1) [bar]',\n",
       " '13 - GT Compressor outlet air pressure (P2) [bar]',\n",
       " '14 - Gas Turbine exhaust gas pressure (Pexh) [bar]',\n",
       " '15 - Turbine Injecton Control (TIC) [%]',\n",
       " '16 - Fuel flow (mf) [kg/s]',\n",
       " '17 - GT Compressor decay state coefficient.',\n",
       " '18 - GT Turbine decay state coefficient. ']"
      ]
     },
     "execution_count": 3,
     "metadata": {},
     "output_type": "execute_result"
    }
   ],
   "source": [
    "# reading the features description\n",
    "features = open('data/features.txt')\n",
    "features.read().splitlines()"
   ]
  },
  {
   "cell_type": "code",
   "execution_count": 4,
   "metadata": {},
   "outputs": [],
   "source": [
    "data = pd.DataFrame(raw, columns=['lp', 'v', 'gtt', 'gtn', 'ggn', 'ts', 'tp', 't48',\n",
    "                                  't1', 't2', 'p48', 'p1', 'p2', 'pexh', 'tic', 'mf', 'y_1', 'y_2'], dtype = float)"
   ]
  },
  {
   "cell_type": "markdown",
   "metadata": {},
   "source": [
    "<a id='eda'></a>\n",
    "## Exploratory Data Analysis"
   ]
  },
  {
   "cell_type": "code",
   "execution_count": 5,
   "metadata": {},
   "outputs": [
    {
     "data": {
      "text/plain": [
       "(11934, 18)"
      ]
     },
     "execution_count": 5,
     "metadata": {},
     "output_type": "execute_result"
    }
   ],
   "source": [
    "data.shape"
   ]
  },
  {
   "cell_type": "code",
   "execution_count": 6,
   "metadata": {
    "scrolled": false
   },
   "outputs": [
    {
     "data": {
      "text/html": [
       "<div>\n",
       "<style scoped>\n",
       "    .dataframe tbody tr th:only-of-type {\n",
       "        vertical-align: middle;\n",
       "    }\n",
       "\n",
       "    .dataframe tbody tr th {\n",
       "        vertical-align: top;\n",
       "    }\n",
       "\n",
       "    .dataframe thead th {\n",
       "        text-align: right;\n",
       "    }\n",
       "</style>\n",
       "<table border=\"1\" class=\"dataframe\">\n",
       "  <thead>\n",
       "    <tr style=\"text-align: right;\">\n",
       "      <th></th>\n",
       "      <th>lp</th>\n",
       "      <th>v</th>\n",
       "      <th>gtt</th>\n",
       "      <th>gtn</th>\n",
       "      <th>ggn</th>\n",
       "      <th>ts</th>\n",
       "      <th>tp</th>\n",
       "      <th>t48</th>\n",
       "      <th>t1</th>\n",
       "      <th>t2</th>\n",
       "      <th>p48</th>\n",
       "      <th>p1</th>\n",
       "      <th>p2</th>\n",
       "      <th>pexh</th>\n",
       "      <th>tic</th>\n",
       "      <th>mf</th>\n",
       "      <th>y_1</th>\n",
       "      <th>y_2</th>\n",
       "    </tr>\n",
       "  </thead>\n",
       "  <tbody>\n",
       "    <tr>\n",
       "      <th>count</th>\n",
       "      <td>11934.000000</td>\n",
       "      <td>11934.000000</td>\n",
       "      <td>11934.000000</td>\n",
       "      <td>11934.000000</td>\n",
       "      <td>11934.000000</td>\n",
       "      <td>11934.000000</td>\n",
       "      <td>11934.000000</td>\n",
       "      <td>11934.000000</td>\n",
       "      <td>11934.0</td>\n",
       "      <td>11934.000000</td>\n",
       "      <td>11934.000000</td>\n",
       "      <td>1.193400e+04</td>\n",
       "      <td>11934.000000</td>\n",
       "      <td>11934.000000</td>\n",
       "      <td>11934.000000</td>\n",
       "      <td>11934.000000</td>\n",
       "      <td>11934.00000</td>\n",
       "      <td>11934.0000</td>\n",
       "    </tr>\n",
       "    <tr>\n",
       "      <th>mean</th>\n",
       "      <td>5.166667</td>\n",
       "      <td>15.000000</td>\n",
       "      <td>27247.498685</td>\n",
       "      <td>2136.289256</td>\n",
       "      <td>8200.947312</td>\n",
       "      <td>227.335768</td>\n",
       "      <td>227.335768</td>\n",
       "      <td>735.495446</td>\n",
       "      <td>288.0</td>\n",
       "      <td>646.215331</td>\n",
       "      <td>2.352963</td>\n",
       "      <td>9.980000e-01</td>\n",
       "      <td>12.297123</td>\n",
       "      <td>1.029474</td>\n",
       "      <td>33.641261</td>\n",
       "      <td>0.662440</td>\n",
       "      <td>0.97500</td>\n",
       "      <td>0.9875</td>\n",
       "    </tr>\n",
       "    <tr>\n",
       "      <th>std</th>\n",
       "      <td>2.626388</td>\n",
       "      <td>7.746291</td>\n",
       "      <td>22148.613155</td>\n",
       "      <td>774.083881</td>\n",
       "      <td>1091.315507</td>\n",
       "      <td>200.495889</td>\n",
       "      <td>200.495889</td>\n",
       "      <td>173.680552</td>\n",
       "      <td>0.0</td>\n",
       "      <td>72.675882</td>\n",
       "      <td>1.084770</td>\n",
       "      <td>2.533635e-13</td>\n",
       "      <td>5.337448</td>\n",
       "      <td>0.010390</td>\n",
       "      <td>25.841363</td>\n",
       "      <td>0.507132</td>\n",
       "      <td>0.01472</td>\n",
       "      <td>0.0075</td>\n",
       "    </tr>\n",
       "    <tr>\n",
       "      <th>min</th>\n",
       "      <td>1.138000</td>\n",
       "      <td>3.000000</td>\n",
       "      <td>253.547000</td>\n",
       "      <td>1307.675000</td>\n",
       "      <td>6589.002000</td>\n",
       "      <td>5.304000</td>\n",
       "      <td>5.304000</td>\n",
       "      <td>442.364000</td>\n",
       "      <td>288.0</td>\n",
       "      <td>540.442000</td>\n",
       "      <td>1.093000</td>\n",
       "      <td>9.980000e-01</td>\n",
       "      <td>5.828000</td>\n",
       "      <td>1.019000</td>\n",
       "      <td>0.000000</td>\n",
       "      <td>0.068000</td>\n",
       "      <td>0.95000</td>\n",
       "      <td>0.9750</td>\n",
       "    </tr>\n",
       "    <tr>\n",
       "      <th>25%</th>\n",
       "      <td>3.144000</td>\n",
       "      <td>9.000000</td>\n",
       "      <td>8375.883750</td>\n",
       "      <td>1386.758000</td>\n",
       "      <td>7058.324000</td>\n",
       "      <td>60.317000</td>\n",
       "      <td>60.317000</td>\n",
       "      <td>589.872750</td>\n",
       "      <td>288.0</td>\n",
       "      <td>578.092250</td>\n",
       "      <td>1.389000</td>\n",
       "      <td>9.980000e-01</td>\n",
       "      <td>7.447250</td>\n",
       "      <td>1.020000</td>\n",
       "      <td>13.677500</td>\n",
       "      <td>0.246000</td>\n",
       "      <td>0.96200</td>\n",
       "      <td>0.9810</td>\n",
       "    </tr>\n",
       "    <tr>\n",
       "      <th>50%</th>\n",
       "      <td>5.140000</td>\n",
       "      <td>15.000000</td>\n",
       "      <td>21630.659000</td>\n",
       "      <td>1924.326000</td>\n",
       "      <td>8482.081500</td>\n",
       "      <td>175.268000</td>\n",
       "      <td>175.268000</td>\n",
       "      <td>706.038000</td>\n",
       "      <td>288.0</td>\n",
       "      <td>637.141500</td>\n",
       "      <td>2.083000</td>\n",
       "      <td>9.980000e-01</td>\n",
       "      <td>11.092000</td>\n",
       "      <td>1.026000</td>\n",
       "      <td>25.276500</td>\n",
       "      <td>0.496000</td>\n",
       "      <td>0.97500</td>\n",
       "      <td>0.9875</td>\n",
       "    </tr>\n",
       "    <tr>\n",
       "      <th>75%</th>\n",
       "      <td>7.148000</td>\n",
       "      <td>21.000000</td>\n",
       "      <td>39001.426750</td>\n",
       "      <td>2678.079000</td>\n",
       "      <td>9132.606000</td>\n",
       "      <td>332.364750</td>\n",
       "      <td>332.364750</td>\n",
       "      <td>834.066250</td>\n",
       "      <td>288.0</td>\n",
       "      <td>693.924500</td>\n",
       "      <td>2.981000</td>\n",
       "      <td>9.980000e-01</td>\n",
       "      <td>15.658000</td>\n",
       "      <td>1.036000</td>\n",
       "      <td>44.552500</td>\n",
       "      <td>0.882000</td>\n",
       "      <td>0.98800</td>\n",
       "      <td>0.9940</td>\n",
       "    </tr>\n",
       "    <tr>\n",
       "      <th>max</th>\n",
       "      <td>9.300000</td>\n",
       "      <td>27.000000</td>\n",
       "      <td>72784.872000</td>\n",
       "      <td>3560.741000</td>\n",
       "      <td>9797.103000</td>\n",
       "      <td>645.249000</td>\n",
       "      <td>645.249000</td>\n",
       "      <td>1115.797000</td>\n",
       "      <td>288.0</td>\n",
       "      <td>789.094000</td>\n",
       "      <td>4.560000</td>\n",
       "      <td>9.980000e-01</td>\n",
       "      <td>23.140000</td>\n",
       "      <td>1.052000</td>\n",
       "      <td>92.556000</td>\n",
       "      <td>1.832000</td>\n",
       "      <td>1.00000</td>\n",
       "      <td>1.0000</td>\n",
       "    </tr>\n",
       "  </tbody>\n",
       "</table>\n",
       "</div>"
      ],
      "text/plain": [
       "                 lp             v           gtt           gtn           ggn  \\\n",
       "count  11934.000000  11934.000000  11934.000000  11934.000000  11934.000000   \n",
       "mean       5.166667     15.000000  27247.498685   2136.289256   8200.947312   \n",
       "std        2.626388      7.746291  22148.613155    774.083881   1091.315507   \n",
       "min        1.138000      3.000000    253.547000   1307.675000   6589.002000   \n",
       "25%        3.144000      9.000000   8375.883750   1386.758000   7058.324000   \n",
       "50%        5.140000     15.000000  21630.659000   1924.326000   8482.081500   \n",
       "75%        7.148000     21.000000  39001.426750   2678.079000   9132.606000   \n",
       "max        9.300000     27.000000  72784.872000   3560.741000   9797.103000   \n",
       "\n",
       "                 ts            tp           t48       t1            t2  \\\n",
       "count  11934.000000  11934.000000  11934.000000  11934.0  11934.000000   \n",
       "mean     227.335768    227.335768    735.495446    288.0    646.215331   \n",
       "std      200.495889    200.495889    173.680552      0.0     72.675882   \n",
       "min        5.304000      5.304000    442.364000    288.0    540.442000   \n",
       "25%       60.317000     60.317000    589.872750    288.0    578.092250   \n",
       "50%      175.268000    175.268000    706.038000    288.0    637.141500   \n",
       "75%      332.364750    332.364750    834.066250    288.0    693.924500   \n",
       "max      645.249000    645.249000   1115.797000    288.0    789.094000   \n",
       "\n",
       "                p48            p1            p2          pexh           tic  \\\n",
       "count  11934.000000  1.193400e+04  11934.000000  11934.000000  11934.000000   \n",
       "mean       2.352963  9.980000e-01     12.297123      1.029474     33.641261   \n",
       "std        1.084770  2.533635e-13      5.337448      0.010390     25.841363   \n",
       "min        1.093000  9.980000e-01      5.828000      1.019000      0.000000   \n",
       "25%        1.389000  9.980000e-01      7.447250      1.020000     13.677500   \n",
       "50%        2.083000  9.980000e-01     11.092000      1.026000     25.276500   \n",
       "75%        2.981000  9.980000e-01     15.658000      1.036000     44.552500   \n",
       "max        4.560000  9.980000e-01     23.140000      1.052000     92.556000   \n",
       "\n",
       "                 mf          y_1         y_2  \n",
       "count  11934.000000  11934.00000  11934.0000  \n",
       "mean       0.662440      0.97500      0.9875  \n",
       "std        0.507132      0.01472      0.0075  \n",
       "min        0.068000      0.95000      0.9750  \n",
       "25%        0.246000      0.96200      0.9810  \n",
       "50%        0.496000      0.97500      0.9875  \n",
       "75%        0.882000      0.98800      0.9940  \n",
       "max        1.832000      1.00000      1.0000  "
      ]
     },
     "execution_count": 6,
     "metadata": {},
     "output_type": "execute_result"
    }
   ],
   "source": [
    "data.describe()"
   ]
  },
  {
   "cell_type": "markdown",
   "metadata": {},
   "source": [
    "Judging by the data main statistics, the _t1_ and _p1_ features (the GT compressor inlet air temperature and pressure) are constant at the levels of 288 degrees Celcium and 0.998 bars respectively, so these features can be omitted during the analysis.\n",
    "\n",
    "All the features are of a numerical type, so no encoding techniques should be performed on the data."
   ]
  },
  {
   "cell_type": "code",
   "execution_count": 7,
   "metadata": {},
   "outputs": [],
   "source": [
    "# removing constant features\n",
    "data.drop(['t1', 'p1'], 1, inplace = True)"
   ]
  },
  {
   "cell_type": "code",
   "execution_count": 8,
   "metadata": {
    "scrolled": true
   },
   "outputs": [
    {
     "data": {
      "text/html": [
       "<div>\n",
       "<style scoped>\n",
       "    .dataframe tbody tr th:only-of-type {\n",
       "        vertical-align: middle;\n",
       "    }\n",
       "\n",
       "    .dataframe tbody tr th {\n",
       "        vertical-align: top;\n",
       "    }\n",
       "\n",
       "    .dataframe thead th {\n",
       "        text-align: right;\n",
       "    }\n",
       "</style>\n",
       "<table border=\"1\" class=\"dataframe\">\n",
       "  <thead>\n",
       "    <tr style=\"text-align: right;\">\n",
       "      <th></th>\n",
       "      <th>lp</th>\n",
       "      <th>v</th>\n",
       "      <th>gtt</th>\n",
       "      <th>gtn</th>\n",
       "      <th>ggn</th>\n",
       "      <th>ts</th>\n",
       "      <th>tp</th>\n",
       "      <th>t48</th>\n",
       "      <th>t2</th>\n",
       "      <th>p48</th>\n",
       "      <th>p2</th>\n",
       "      <th>pexh</th>\n",
       "      <th>tic</th>\n",
       "      <th>mf</th>\n",
       "      <th>y_1</th>\n",
       "      <th>y_2</th>\n",
       "    </tr>\n",
       "  </thead>\n",
       "  <tbody>\n",
       "    <tr>\n",
       "      <th>0</th>\n",
       "      <td>0</td>\n",
       "      <td>0</td>\n",
       "      <td>0</td>\n",
       "      <td>0</td>\n",
       "      <td>0</td>\n",
       "      <td>0</td>\n",
       "      <td>0</td>\n",
       "      <td>0</td>\n",
       "      <td>0</td>\n",
       "      <td>0</td>\n",
       "      <td>0</td>\n",
       "      <td>0</td>\n",
       "      <td>0</td>\n",
       "      <td>0</td>\n",
       "      <td>0</td>\n",
       "      <td>0</td>\n",
       "    </tr>\n",
       "  </tbody>\n",
       "</table>\n",
       "</div>"
      ],
      "text/plain": [
       "   lp  v  gtt  gtn  ggn  ts  tp  t48  t2  p48  p2  pexh  tic  mf  y_1  y_2\n",
       "0   0  0    0    0    0   0   0    0   0    0   0     0    0   0    0    0"
      ]
     },
     "execution_count": 8,
     "metadata": {},
     "output_type": "execute_result"
    }
   ],
   "source": [
    "# checking the number of missing values\n",
    "data.isnull().sum().to_frame().T"
   ]
  },
  {
   "cell_type": "code",
   "execution_count": 9,
   "metadata": {
    "scrolled": true
   },
   "outputs": [
    {
     "data": {
      "image/png": "[encoded data removed]",
      "text/plain": [
       "<Figure size 1152x864 with 2 Axes>"
      ]
     },
     "metadata": {
      "needs_background": "light"
     },
     "output_type": "display_data"
    }
   ],
   "source": [
    "# plotting the correlation matrix\n",
    "plt.figure(figsize=(16,12))\n",
    "sns.heatmap(data.corr('spearman'), cmap='GnBu', annot = True)\n",
    "plt.show()"
   ]
  },
  {
   "cell_type": "markdown",
   "metadata": {},
   "source": [
    "As it can be seen from the correlation matrix, the following features have strong linear correlation between each other:\n",
    "* lever position and ship speed; \n",
    "* gas turbine torque and starboard and portside torques;\n",
    "... \n",
    "\n",
    "All the features are slightly correlated with the target functions. \n",
    "\n",
    "In total, the data is highly correlated, that might cause the problem while fitting the linear model. To avoid the issue, feature selection should be conducted."
   ]
  },
  {
   "cell_type": "markdown",
   "metadata": {},
   "source": [
    "__Important!!!__ During the model selection, I tried to fit the models with only 5 selected features (see below), but the accuracy was lower in comparison with the models fitted with all the data presented in the set.\n",
    "\n",
    "For the future analysis, only several features are kept:\n",
    "* gas turbine shaft torque (as a torque feature);\n",
    "* turbine exit temperature (as a temperature feature);\n",
    "* turbine exit pressure (as a pressure feature);\n",
    "* turbine injecton control (TIC);\n",
    "* fuel flow."
   ]
  },
  {
   "cell_type": "markdown",
   "metadata": {},
   "source": [
    "Let's take a look at some features distributions."
   ]
  },
  {
   "cell_type": "code",
   "execution_count": 10,
   "metadata": {},
   "outputs": [
    {
     "data": {
      "image/png": "[encoded data removed]",
      "text/plain": [
       "<Figure size 432x288 with 1 Axes>"
      ]
     },
     "metadata": {
      "needs_background": "light"
     },
     "output_type": "display_data"
    }
   ],
   "source": [
    "plt.hist(data.gtt, bins = 12)\n",
    "plt.grid()\n",
    "plt.show()"
   ]
  },
  {
   "cell_type": "code",
   "execution_count": 11,
   "metadata": {},
   "outputs": [
    {
     "data": {
      "image/png": "[encoded data removed]",
      "text/plain": [
       "<Figure size 432x288 with 1 Axes>"
      ]
     },
     "metadata": {
      "needs_background": "light"
     },
     "output_type": "display_data"
    }
   ],
   "source": [
    "plt.hist(data.t48, bins = 20)\n",
    "plt.grid()\n",
    "plt.show()"
   ]
  },
  {
   "cell_type": "code",
   "execution_count": 12,
   "metadata": {},
   "outputs": [
    {
     "data": {
      "image/png": "[encoded data removed]",
      "text/plain": [
       "<Figure size 432x288 with 1 Axes>"
      ]
     },
     "metadata": {
      "needs_background": "light"
     },
     "output_type": "display_data"
    }
   ],
   "source": [
    "plt.hist(data.p48, bins = 10)\n",
    "plt.grid()\n",
    "plt.show()"
   ]
  },
  {
   "cell_type": "markdown",
   "metadata": {},
   "source": [
    "<a id='dp'></a>\n",
    "## Data Preprocessing"
   ]
  },
  {
   "cell_type": "code",
   "execution_count": 13,
   "metadata": {},
   "outputs": [],
   "source": [
    "X = data.iloc[:,:-2]\n",
    "y_1 = data.iloc[:,-2].values\n",
    "y_2 = data.iloc[:,-1].values"
   ]
  },
  {
   "cell_type": "code",
   "execution_count": 14,
   "metadata": {},
   "outputs": [],
   "source": [
    "# scaling the data to have zero mean and unit variance\n",
    "from sklearn.preprocessing import StandardScaler\n",
    "ss = StandardScaler()\n",
    "X = ss.fit_transform(X)"
   ]
  },
  {
   "cell_type": "markdown",
   "metadata": {},
   "source": [
    "<a id='ms'></a>\n",
    "## Model Selection"
   ]
  },
  {
   "cell_type": "markdown",
   "metadata": {},
   "source": [
    "The following models are built and evaluated in order to choose different approaches to regression problem:\n",
    "1. *Linear Regression* - just a simple linear model with different regularization terms;\n",
    "2. *Ensemble Models* - Random Forst and XGBoost Regressors;\n",
    "3. *Neural Networks* - Shallow NN and Deep NN.\n",
    "\n",
    "For Linear Regression and Ensemble Models Grid Search technqiue is used to find the optimal hyperparameters values. \n",
    "\n",
    "Cross validation is used to initially estimate the model performance. Final estimation is done in the Prediction chapter."
   ]
  },
  {
   "cell_type": "code",
   "execution_count": 15,
   "metadata": {},
   "outputs": [],
   "source": [
    "from sklearn.linear_model import LinearRegression, Ridge\n",
    "from xgboost import XGBRegressor\n",
    "from sklearn.ensemble import RandomForestRegressor\n",
    "from sklearn.model_selection import GridSearchCV, cross_val_score, train_test_split\n",
    "from sklearn.metrics import mean_squared_error, mean_absolute_error"
   ]
  },
  {
   "cell_type": "markdown",
   "metadata": {},
   "source": [
    "<a id='linear'></a>\n",
    "## Linear Models"
   ]
  },
  {
   "cell_type": "markdown",
   "metadata": {},
   "source": [
    "### Linear Regression"
   ]
  },
  {
   "cell_type": "markdown",
   "metadata": {},
   "source": [
    "Ordinary Least Squares algorithm"
   ]
  },
  {
   "cell_type": "code",
   "execution_count": 16,
   "metadata": {
    "scrolled": true
   },
   "outputs": [
    {
     "name": "stderr",
     "output_type": "stream",
     "text": [
      "[Parallel(n_jobs=-1)]: Using backend LokyBackend with 8 concurrent workers.\n",
      "[Parallel(n_jobs=-1)]: Done   6 out of  10 | elapsed:    1.4s remaining:    0.9s\n",
      "[Parallel(n_jobs=-1)]: Done  10 out of  10 | elapsed:    1.5s finished\n"
     ]
    },
    {
     "data": {
      "text/plain": [
       "-0.005009634534446037"
      ]
     },
     "execution_count": 16,
     "metadata": {},
     "output_type": "execute_result"
    }
   ],
   "source": [
    "est = LinearRegression(n_jobs=-1)\n",
    "cross_val_score(est, X, y_1, scoring='neg_mean_absolute_error', cv=10, n_jobs=-1, verbose=1).mean()"
   ]
  },
  {
   "cell_type": "markdown",
   "metadata": {},
   "source": [
    "### Ridge"
   ]
  },
  {
   "cell_type": "markdown",
   "metadata": {},
   "source": [
    "Linear regression algorithm with L2-regularization"
   ]
  },
  {
   "cell_type": "code",
   "execution_count": 17,
   "metadata": {},
   "outputs": [
    {
     "name": "stderr",
     "output_type": "stream",
     "text": [
      "[Parallel(n_jobs=-1)]: Using backend LokyBackend with 8 concurrent workers.\n",
      "[Parallel(n_jobs=-1)]: Done   6 out of  10 | elapsed:    0.0s remaining:    0.0s\n",
      "[Parallel(n_jobs=-1)]: Done  10 out of  10 | elapsed:    0.0s finished\n"
     ]
    },
    {
     "data": {
      "text/plain": [
       "-0.005012637251203854"
      ]
     },
     "execution_count": 17,
     "metadata": {},
     "output_type": "execute_result"
    }
   ],
   "source": [
    "est = Ridge(alpha=0.001)\n",
    "cross_val_score(est, X, y_1, scoring='neg_mean_absolute_error', cv=10, n_jobs=-1, verbose=1).mean()"
   ]
  },
  {
   "cell_type": "markdown",
   "metadata": {},
   "source": [
    "<a id='ensemble'></a>\n",
    "## Ensemble Models"
   ]
  },
  {
   "cell_type": "markdown",
   "metadata": {},
   "source": [
    "### XGBoost"
   ]
  },
  {
   "cell_type": "markdown",
   "metadata": {},
   "source": [
    "The XGBoost hyperparameters are tuned using Grid Search."
   ]
  },
  {
   "cell_type": "code",
   "execution_count": 18,
   "metadata": {},
   "outputs": [
    {
     "name": "stderr",
     "output_type": "stream",
     "text": [
      "[Parallel(n_jobs=-1)]: Using backend LokyBackend with 8 concurrent workers.\n"
     ]
    },
    {
     "name": "stdout",
     "output_type": "stream",
     "text": [
      "Fitting 5 folds for each of 45 candidates, totalling 225 fits\n"
     ]
    },
    {
     "name": "stderr",
     "output_type": "stream",
     "text": [
      "[Parallel(n_jobs=-1)]: Done  34 tasks      | elapsed:   21.6s\n",
      "[Parallel(n_jobs=-1)]: Done 184 tasks      | elapsed:  1.8min\n",
      "[Parallel(n_jobs=-1)]: Done 225 out of 225 | elapsed:  1.9min finished\n"
     ]
    },
    {
     "data": {
      "text/plain": [
       "XGBRegressor(base_score=0.5, booster='gbtree', colsample_bylevel=1,\n",
       "             colsample_bynode=1, colsample_bytree=1, gamma=0, gpu_id=-1,\n",
       "             importance_type='gain', interaction_constraints='',\n",
       "             learning_rate=0.5, max_delta_step=0, max_depth=5,\n",
       "             min_child_weight=1, missing=nan, monotone_constraints='()',\n",
       "             n_estimators=250, n_jobs=0, num_parallel_tree=1, random_state=0,\n",
       "             reg_alpha=0, reg_lambda=1, scale_pos_weight=1, subsample=1,\n",
       "             tree_method='exact', validate_parameters=1, verbosity=None)"
      ]
     },
     "execution_count": 18,
     "metadata": {},
     "output_type": "execute_result"
    }
   ],
   "source": [
    "grid = {'n_estimators':[150, 200, 250], 'learning_rate':[0.01, 0.05, 0.1, 0.5, 1], 'max_depth':[5,7,9]}\n",
    "est = GridSearchCV(XGBRegressor(), grid, n_jobs=-1, cv=5, verbose=1)\n",
    "est.fit(X, y_1)\n",
    "est.best_estimator_"
   ]
  },
  {
   "cell_type": "code",
   "execution_count": 19,
   "metadata": {},
   "outputs": [
    {
     "name": "stderr",
     "output_type": "stream",
     "text": [
      "[Parallel(n_jobs=-1)]: Using backend LokyBackend with 8 concurrent workers.\n",
      "[Parallel(n_jobs=-1)]: Done   6 out of  10 | elapsed:    3.6s remaining:    2.3s\n",
      "[Parallel(n_jobs=-1)]: Done  10 out of  10 | elapsed:    5.5s finished\n"
     ]
    },
    {
     "data": {
      "text/plain": [
       "-0.002078336975334917"
      ]
     },
     "execution_count": 19,
     "metadata": {},
     "output_type": "execute_result"
    }
   ],
   "source": [
    "cross_val_score(est.best_estimator_, X, y_1, scoring='neg_mean_absolute_error', cv=10, n_jobs=-1, verbose=1).mean()"
   ]
  },
  {
   "cell_type": "markdown",
   "metadata": {},
   "source": [
    "### Random Forest"
   ]
  },
  {
   "cell_type": "markdown",
   "metadata": {},
   "source": [
    "The Random Forest hyperparameters are tuned using Grid Search."
   ]
  },
  {
   "cell_type": "code",
   "execution_count": 20,
   "metadata": {},
   "outputs": [
    {
     "name": "stderr",
     "output_type": "stream",
     "text": [
      "[Parallel(n_jobs=-1)]: Using backend LokyBackend with 8 concurrent workers.\n"
     ]
    },
    {
     "name": "stdout",
     "output_type": "stream",
     "text": [
      "Fitting 5 folds for each of 4 candidates, totalling 20 fits\n"
     ]
    },
    {
     "name": "stderr",
     "output_type": "stream",
     "text": [
      "[Parallel(n_jobs=-1)]: Done  20 out of  20 | elapsed:   59.6s finished\n"
     ]
    },
    {
     "data": {
      "text/plain": [
       "RandomForestRegressor(n_estimators=150)"
      ]
     },
     "execution_count": 20,
     "metadata": {},
     "output_type": "execute_result"
    }
   ],
   "source": [
    "grid = {'n_estimators':[100, 150, 200, 250]}\n",
    "est = GridSearchCV(RandomForestRegressor(), grid, n_jobs=-1, cv=5, verbose=1)\n",
    "est.fit(X, y_1)\n",
    "est.best_estimator_"
   ]
  },
  {
   "cell_type": "code",
   "execution_count": 21,
   "metadata": {},
   "outputs": [
    {
     "name": "stderr",
     "output_type": "stream",
     "text": [
      "[Parallel(n_jobs=-1)]: Using backend LokyBackend with 8 concurrent workers.\n",
      "[Parallel(n_jobs=-1)]: Done   6 out of  10 | elapsed:   20.8s remaining:   13.8s\n",
      "[Parallel(n_jobs=-1)]: Done  10 out of  10 | elapsed:   32.5s finished\n"
     ]
    },
    {
     "data": {
      "text/plain": [
       "-0.00202346226428769"
      ]
     },
     "execution_count": 21,
     "metadata": {},
     "output_type": "execute_result"
    }
   ],
   "source": [
    "cross_val_score(est.best_estimator_, X, y_1, scoring='neg_mean_absolute_error', cv=10, n_jobs=-1, verbose=1).mean()"
   ]
  },
  {
   "cell_type": "markdown",
   "metadata": {},
   "source": [
    "<a id='nn'></a>\n",
    "## Neural Networks"
   ]
  },
  {
   "cell_type": "markdown",
   "metadata": {},
   "source": [
    "__Important!__ The NNs built within the project is a rough presentation of Deep Learning applications for regression tasks. Fine tuning of the networks is not a subject of the current work, thus, a Shallow NN with only one Dense layer and a Deep NN with five Dense layers and one Dropout layer are explored. "
   ]
  },
  {
   "cell_type": "code",
   "execution_count": 22,
   "metadata": {},
   "outputs": [],
   "source": [
    "import tensorflow as tf\n",
    "from tensorflow.keras.models import Sequential\n",
    "from tensorflow.keras.layers import Flatten, Dense, Dropout\n",
    "from tensorflow.keras.callbacks import EarlyStopping\n",
    "from tensorflow.keras.regularizers import l1"
   ]
  },
  {
   "cell_type": "code",
   "execution_count": 23,
   "metadata": {},
   "outputs": [],
   "source": [
    "X_train, X_test, y_train_1, y_test_1 = train_test_split(X, y_1, test_size=0.2)\n",
    "y_train_2, y_test_2 = train_test_split(y_2, test_size=.2)"
   ]
  },
  {
   "cell_type": "code",
   "execution_count": 24,
   "metadata": {},
   "outputs": [],
   "source": [
    "def plot_accuracy_curve(history):\n",
    "    plt.plot(history.history['mean_absolute_error'])\n",
    "    plt.plot(history.history['val_mean_absolute_error'])\n",
    "    plt.xlabel('Epochs')\n",
    "    plt.ylabel('Accuracy')\n",
    "    plt.legend(['mae','val_mae'], loc='upper right')\n",
    "    plt.title('MAE')\n",
    "    plt.grid()\n",
    "    plt.show()"
   ]
  },
  {
   "cell_type": "markdown",
   "metadata": {},
   "source": [
    "### Shallow Neural Network"
   ]
  },
  {
   "cell_type": "code",
   "execution_count": 25,
   "metadata": {},
   "outputs": [],
   "source": [
    "stop = EarlyStopping('mean_absolute_error', patience=5)"
   ]
  },
  {
   "cell_type": "code",
   "execution_count": 26,
   "metadata": {},
   "outputs": [
    {
     "name": "stdout",
     "output_type": "stream",
     "text": [
      "Model: \"sequential\"\n",
      "_________________________________________________________________\n",
      "Layer (type)                 Output Shape              Param #   \n",
      "=================================================================\n",
      "dense (Dense)                (None, 128)               1920      \n",
      "_________________________________________________________________\n",
      "dense_1 (Dense)              (None, 1)                 129       \n",
      "=================================================================\n",
      "Total params: 2,049\n",
      "Trainable params: 2,049\n",
      "Non-trainable params: 0\n",
      "_________________________________________________________________\n"
     ]
    }
   ],
   "source": [
    "snn = Sequential([\n",
    "    Dense(128, activation='relu', input_shape = X_train[1].shape),\n",
    "    Dense(1, activation='sigmoid')\n",
    "])\n",
    "\n",
    "snn.compile(optimizer='adam', loss='mean_absolute_error', metrics=['mean_absolute_error'])\n",
    "\n",
    "snn.summary()"
   ]
  },
  {
   "cell_type": "code",
   "execution_count": 27,
   "metadata": {},
   "outputs": [],
   "source": [
    "snn_history = snn.fit(X_train, y_train_1, batch_size=128, epochs=500, validation_data=(X_test, y_test_1), verbose=0,\n",
    "                     callbacks=[stop])"
   ]
  },
  {
   "cell_type": "code",
   "execution_count": 28,
   "metadata": {},
   "outputs": [
    {
     "name": "stdout",
     "output_type": "stream",
     "text": [
      "19/19 [==============================] - 0s 1ms/step - loss: 0.0028 - mean_absolute_error: 0.0028\n"
     ]
    },
    {
     "data": {
      "text/plain": [
       "[0.002831403398886323, 0.002831403398886323]"
      ]
     },
     "execution_count": 28,
     "metadata": {},
     "output_type": "execute_result"
    }
   ],
   "source": [
    "snn.evaluate(X_test, y_test_1, batch_size=128, verbose=1)"
   ]
  },
  {
   "cell_type": "code",
   "execution_count": 29,
   "metadata": {
    "scrolled": false
   },
   "outputs": [
    {
     "data": {
      "image/png": "[encoded data removed]",
      "text/plain": [
       "<Figure size 432x288 with 1 Axes>"
      ]
     },
     "metadata": {
      "needs_background": "light"
     },
     "output_type": "display_data"
    }
   ],
   "source": [
    "plot_accuracy_curve(snn_history)"
   ]
  },
  {
   "cell_type": "markdown",
   "metadata": {},
   "source": [
    "### Deep Neural Network"
   ]
  },
  {
   "cell_type": "code",
   "execution_count": 31,
   "metadata": {},
   "outputs": [
    {
     "name": "stdout",
     "output_type": "stream",
     "text": [
      "Model: \"sequential_1\"\n",
      "_________________________________________________________________\n",
      "Layer (type)                 Output Shape              Param #   \n",
      "=================================================================\n",
      "dense_2 (Dense)              (None, 128)               1920      \n",
      "_________________________________________________________________\n",
      "dense_3 (Dense)              (None, 256)               33024     \n",
      "_________________________________________________________________\n",
      "dropout (Dropout)            (None, 256)               0         \n",
      "_________________________________________________________________\n",
      "dense_4 (Dense)              (None, 256)               65792     \n",
      "_________________________________________________________________\n",
      "dense_5 (Dense)              (None, 256)               65792     \n",
      "_________________________________________________________________\n",
      "dense_6 (Dense)              (None, 1)                 257       \n",
      "=================================================================\n",
      "Total params: 166,785\n",
      "Trainable params: 166,785\n",
      "Non-trainable params: 0\n",
      "_________________________________________________________________\n"
     ]
    }
   ],
   "source": [
    "dnn = Sequential([\n",
    "    Dense(128, activation='relu', input_shape=X_train[1].shape),\n",
    "    Dense(256, activation='relu'),\n",
    "    Dropout(0.2),\n",
    "    Dense(256, activation='relu'),\n",
    "    Dense(256, activation='relu'),\n",
    "    Dense(1, activation='sigmoid')\n",
    "])\n",
    "\n",
    "dnn.compile(optimizer='adam', loss='mean_absolute_error', metrics=['mean_absolute_error'])\n",
    "\n",
    "dnn.summary()"
   ]
  },
  {
   "cell_type": "code",
   "execution_count": 32,
   "metadata": {},
   "outputs": [],
   "source": [
    "dnn_history = dnn.fit(X_train, y_train_1, batch_size=256, epochs=500, validation_data=(X_test, y_test_1), verbose=0)"
   ]
  },
  {
   "cell_type": "code",
   "execution_count": 33,
   "metadata": {},
   "outputs": [
    {
     "name": "stdout",
     "output_type": "stream",
     "text": [
      "19/19 [==============================] - 0s 469us/step - loss: 0.0028 - mean_absolute_error: 0.0028\n"
     ]
    },
    {
     "data": {
      "text/plain": [
       "[0.002762895543128252, 0.002762895543128252]"
      ]
     },
     "execution_count": 33,
     "metadata": {},
     "output_type": "execute_result"
    }
   ],
   "source": [
    "dnn.evaluate(X_test, y_test_1, batch_size=128, verbose=1)"
   ]
  },
  {
   "cell_type": "code",
   "execution_count": 34,
   "metadata": {
    "scrolled": true
   },
   "outputs": [
    {
     "data": {
      "image/png": "[encoded data removed]",
      "text/plain": [
       "<Figure size 432x288 with 1 Axes>"
      ]
     },
     "metadata": {
      "needs_background": "light"
     },
     "output_type": "display_data"
    }
   ],
   "source": [
    "plot_accuracy_curve(dnn_history)"
   ]
  },
  {
   "cell_type": "markdown",
   "metadata": {},
   "source": [
    "<a id='prediction'></a>\n",
    "## Final Prediction"
   ]
  },
  {
   "cell_type": "code",
   "execution_count": 35,
   "metadata": {},
   "outputs": [],
   "source": [
    "# ML algorithms prediction function\n",
    "def predict(est, X, y, test_size=0.2):\n",
    "    X_train, X_test, y_train, y_test = train_test_split(X, y, test_size=test_size)\n",
    "    est.fit(X_train, y_train)\n",
    "    y_pred = est.predict(X_test)\n",
    "    print('MSE:', mean_squared_error(y_test, y_pred))\n",
    "    print('MAE:', mean_absolute_error(y_test, y_pred))\n",
    "    df = pd.DataFrame([y_test, y_pred]).T\n",
    "    df.rename(columns={0:'true', 1:'pred'}, inplace=True)\n",
    "    df['error'] = abs(df.pred - df.true).round(4)\n",
    "    df.sort_values('error', ascending = False, inplace=True)\n",
    "    return df"
   ]
  },
  {
   "cell_type": "code",
   "execution_count": 36,
   "metadata": {},
   "outputs": [],
   "source": [
    "# DL algorithms prediction function\n",
    "def evaluate(model, X=X_test, y=y_test_1, batch_size=128):\n",
    "    y_pred = model.predict(X).flatten()\n",
    "    print('MSE:', mean_squared_error(y, y_pred))\n",
    "    print('MAE:', mean_absolute_error(y, y_pred))\n",
    "    df = pd.DataFrame([y, y_pred.flatten()]).T\n",
    "    df.rename(columns={0:'true', 1:'pred'}, inplace=True)\n",
    "    df['error'] = abs(df.pred - df.true).round(4)\n",
    "    df.sort_values('error', ascending = False, inplace=True)\n",
    "    return df"
   ]
  },
  {
   "cell_type": "markdown",
   "metadata": {},
   "source": [
    "### Compressor decay state coefficient prediction"
   ]
  },
  {
   "cell_type": "code",
   "execution_count": 37,
   "metadata": {},
   "outputs": [
    {
     "name": "stdout",
     "output_type": "stream",
     "text": [
      "MSE: 3.462702851131436e-05\n",
      "MAE: 0.004627747394058918\n"
     ]
    },
    {
     "data": {
      "text/html": [
       "<div>\n",
       "<style scoped>\n",
       "    .dataframe tbody tr th:only-of-type {\n",
       "        vertical-align: middle;\n",
       "    }\n",
       "\n",
       "    .dataframe tbody tr th {\n",
       "        vertical-align: top;\n",
       "    }\n",
       "\n",
       "    .dataframe thead th {\n",
       "        text-align: right;\n",
       "    }\n",
       "</style>\n",
       "<table border=\"1\" class=\"dataframe\">\n",
       "  <thead>\n",
       "    <tr style=\"text-align: right;\">\n",
       "      <th></th>\n",
       "      <th>true</th>\n",
       "      <th>pred</th>\n",
       "      <th>error</th>\n",
       "    </tr>\n",
       "  </thead>\n",
       "  <tbody>\n",
       "    <tr>\n",
       "      <th>1751</th>\n",
       "      <td>0.950</td>\n",
       "      <td>0.969710</td>\n",
       "      <td>0.0197</td>\n",
       "    </tr>\n",
       "    <tr>\n",
       "      <th>1670</th>\n",
       "      <td>1.000</td>\n",
       "      <td>0.980374</td>\n",
       "      <td>0.0196</td>\n",
       "    </tr>\n",
       "    <tr>\n",
       "      <th>926</th>\n",
       "      <td>1.000</td>\n",
       "      <td>0.980461</td>\n",
       "      <td>0.0195</td>\n",
       "    </tr>\n",
       "    <tr>\n",
       "      <th>970</th>\n",
       "      <td>0.951</td>\n",
       "      <td>0.970070</td>\n",
       "      <td>0.0191</td>\n",
       "    </tr>\n",
       "    <tr>\n",
       "      <th>2262</th>\n",
       "      <td>0.951</td>\n",
       "      <td>0.969687</td>\n",
       "      <td>0.0187</td>\n",
       "    </tr>\n",
       "    <tr>\n",
       "      <th>...</th>\n",
       "      <td>...</td>\n",
       "      <td>...</td>\n",
       "      <td>...</td>\n",
       "    </tr>\n",
       "    <tr>\n",
       "      <th>2315</th>\n",
       "      <td>0.976</td>\n",
       "      <td>0.975971</td>\n",
       "      <td>0.0000</td>\n",
       "    </tr>\n",
       "    <tr>\n",
       "      <th>805</th>\n",
       "      <td>0.985</td>\n",
       "      <td>0.984959</td>\n",
       "      <td>0.0000</td>\n",
       "    </tr>\n",
       "    <tr>\n",
       "      <th>2122</th>\n",
       "      <td>0.976</td>\n",
       "      <td>0.976045</td>\n",
       "      <td>0.0000</td>\n",
       "    </tr>\n",
       "    <tr>\n",
       "      <th>1403</th>\n",
       "      <td>0.976</td>\n",
       "      <td>0.975953</td>\n",
       "      <td>0.0000</td>\n",
       "    </tr>\n",
       "    <tr>\n",
       "      <th>1764</th>\n",
       "      <td>0.980</td>\n",
       "      <td>0.979966</td>\n",
       "      <td>0.0000</td>\n",
       "    </tr>\n",
       "  </tbody>\n",
       "</table>\n",
       "<p>2387 rows × 3 columns</p>\n",
       "</div>"
      ],
      "text/plain": [
       "       true      pred   error\n",
       "1751  0.950  0.969710  0.0197\n",
       "1670  1.000  0.980374  0.0196\n",
       "926   1.000  0.980461  0.0195\n",
       "970   0.951  0.970070  0.0191\n",
       "2262  0.951  0.969687  0.0187\n",
       "...     ...       ...     ...\n",
       "2315  0.976  0.975971  0.0000\n",
       "805   0.985  0.984959  0.0000\n",
       "2122  0.976  0.976045  0.0000\n",
       "1403  0.976  0.975953  0.0000\n",
       "1764  0.980  0.979966  0.0000\n",
       "\n",
       "[2387 rows x 3 columns]"
      ]
     },
     "execution_count": 37,
     "metadata": {},
     "output_type": "execute_result"
    }
   ],
   "source": [
    "# OLS\n",
    "est = LinearRegression(n_jobs=-1)\n",
    "predict(est, X, y_1)"
   ]
  },
  {
   "cell_type": "code",
   "execution_count": 38,
   "metadata": {},
   "outputs": [
    {
     "name": "stdout",
     "output_type": "stream",
     "text": [
      "MSE: 3.381416872760337e-05\n",
      "MAE: 0.004575650266389215\n"
     ]
    },
    {
     "data": {
      "text/html": [
       "<div>\n",
       "<style scoped>\n",
       "    .dataframe tbody tr th:only-of-type {\n",
       "        vertical-align: middle;\n",
       "    }\n",
       "\n",
       "    .dataframe tbody tr th {\n",
       "        vertical-align: top;\n",
       "    }\n",
       "\n",
       "    .dataframe thead th {\n",
       "        text-align: right;\n",
       "    }\n",
       "</style>\n",
       "<table border=\"1\" class=\"dataframe\">\n",
       "  <thead>\n",
       "    <tr style=\"text-align: right;\">\n",
       "      <th></th>\n",
       "      <th>true</th>\n",
       "      <th>pred</th>\n",
       "      <th>error</th>\n",
       "    </tr>\n",
       "  </thead>\n",
       "  <tbody>\n",
       "    <tr>\n",
       "      <th>1988</th>\n",
       "      <td>1.000</td>\n",
       "      <td>0.980702</td>\n",
       "      <td>0.0193</td>\n",
       "    </tr>\n",
       "    <tr>\n",
       "      <th>1410</th>\n",
       "      <td>0.950</td>\n",
       "      <td>0.968789</td>\n",
       "      <td>0.0188</td>\n",
       "    </tr>\n",
       "    <tr>\n",
       "      <th>2120</th>\n",
       "      <td>0.951</td>\n",
       "      <td>0.969751</td>\n",
       "      <td>0.0188</td>\n",
       "    </tr>\n",
       "    <tr>\n",
       "      <th>501</th>\n",
       "      <td>0.996</td>\n",
       "      <td>0.977554</td>\n",
       "      <td>0.0184</td>\n",
       "    </tr>\n",
       "    <tr>\n",
       "      <th>848</th>\n",
       "      <td>0.951</td>\n",
       "      <td>0.969411</td>\n",
       "      <td>0.0184</td>\n",
       "    </tr>\n",
       "    <tr>\n",
       "      <th>...</th>\n",
       "      <td>...</td>\n",
       "      <td>...</td>\n",
       "      <td>...</td>\n",
       "    </tr>\n",
       "    <tr>\n",
       "      <th>1483</th>\n",
       "      <td>0.970</td>\n",
       "      <td>0.970011</td>\n",
       "      <td>0.0000</td>\n",
       "    </tr>\n",
       "    <tr>\n",
       "      <th>2352</th>\n",
       "      <td>0.988</td>\n",
       "      <td>0.987953</td>\n",
       "      <td>0.0000</td>\n",
       "    </tr>\n",
       "    <tr>\n",
       "      <th>234</th>\n",
       "      <td>0.971</td>\n",
       "      <td>0.971036</td>\n",
       "      <td>0.0000</td>\n",
       "    </tr>\n",
       "    <tr>\n",
       "      <th>2341</th>\n",
       "      <td>0.985</td>\n",
       "      <td>0.984984</td>\n",
       "      <td>0.0000</td>\n",
       "    </tr>\n",
       "    <tr>\n",
       "      <th>705</th>\n",
       "      <td>0.975</td>\n",
       "      <td>0.974974</td>\n",
       "      <td>0.0000</td>\n",
       "    </tr>\n",
       "  </tbody>\n",
       "</table>\n",
       "<p>2387 rows × 3 columns</p>\n",
       "</div>"
      ],
      "text/plain": [
       "       true      pred   error\n",
       "1988  1.000  0.980702  0.0193\n",
       "1410  0.950  0.968789  0.0188\n",
       "2120  0.951  0.969751  0.0188\n",
       "501   0.996  0.977554  0.0184\n",
       "848   0.951  0.969411  0.0184\n",
       "...     ...       ...     ...\n",
       "1483  0.970  0.970011  0.0000\n",
       "2352  0.988  0.987953  0.0000\n",
       "234   0.971  0.971036  0.0000\n",
       "2341  0.985  0.984984  0.0000\n",
       "705   0.975  0.974974  0.0000\n",
       "\n",
       "[2387 rows x 3 columns]"
      ]
     },
     "execution_count": 38,
     "metadata": {},
     "output_type": "execute_result"
    }
   ],
   "source": [
    "# Ridge\n",
    "est = Ridge(alpha=0.001)\n",
    "predict(est, X, y_1)"
   ]
  },
  {
   "cell_type": "code",
   "execution_count": 50,
   "metadata": {
    "scrolled": true
   },
   "outputs": [
    {
     "name": "stdout",
     "output_type": "stream",
     "text": [
      "MSE: 1.9163471895958235e-06\n",
      "MAE: 0.0009699834496794167\n"
     ]
    },
    {
     "data": {
      "text/html": [
       "<div>\n",
       "<style scoped>\n",
       "    .dataframe tbody tr th:only-of-type {\n",
       "        vertical-align: middle;\n",
       "    }\n",
       "\n",
       "    .dataframe tbody tr th {\n",
       "        vertical-align: top;\n",
       "    }\n",
       "\n",
       "    .dataframe thead th {\n",
       "        text-align: right;\n",
       "    }\n",
       "</style>\n",
       "<table border=\"1\" class=\"dataframe\">\n",
       "  <thead>\n",
       "    <tr style=\"text-align: right;\">\n",
       "      <th></th>\n",
       "      <th>true</th>\n",
       "      <th>pred</th>\n",
       "      <th>error</th>\n",
       "    </tr>\n",
       "  </thead>\n",
       "  <tbody>\n",
       "    <tr>\n",
       "      <th>1187</th>\n",
       "      <td>0.999</td>\n",
       "      <td>0.983505</td>\n",
       "      <td>0.0155</td>\n",
       "    </tr>\n",
       "    <tr>\n",
       "      <th>1630</th>\n",
       "      <td>0.962</td>\n",
       "      <td>0.952089</td>\n",
       "      <td>0.0099</td>\n",
       "    </tr>\n",
       "    <tr>\n",
       "      <th>2360</th>\n",
       "      <td>0.986</td>\n",
       "      <td>0.976189</td>\n",
       "      <td>0.0098</td>\n",
       "    </tr>\n",
       "    <tr>\n",
       "      <th>97</th>\n",
       "      <td>0.999</td>\n",
       "      <td>1.007262</td>\n",
       "      <td>0.0083</td>\n",
       "    </tr>\n",
       "    <tr>\n",
       "      <th>2078</th>\n",
       "      <td>1.000</td>\n",
       "      <td>0.992875</td>\n",
       "      <td>0.0071</td>\n",
       "    </tr>\n",
       "    <tr>\n",
       "      <th>...</th>\n",
       "      <td>...</td>\n",
       "      <td>...</td>\n",
       "      <td>...</td>\n",
       "    </tr>\n",
       "    <tr>\n",
       "      <th>883</th>\n",
       "      <td>0.956</td>\n",
       "      <td>0.955989</td>\n",
       "      <td>0.0000</td>\n",
       "    </tr>\n",
       "    <tr>\n",
       "      <th>234</th>\n",
       "      <td>0.980</td>\n",
       "      <td>0.979979</td>\n",
       "      <td>0.0000</td>\n",
       "    </tr>\n",
       "    <tr>\n",
       "      <th>1771</th>\n",
       "      <td>0.968</td>\n",
       "      <td>0.967982</td>\n",
       "      <td>0.0000</td>\n",
       "    </tr>\n",
       "    <tr>\n",
       "      <th>1573</th>\n",
       "      <td>0.965</td>\n",
       "      <td>0.964951</td>\n",
       "      <td>0.0000</td>\n",
       "    </tr>\n",
       "    <tr>\n",
       "      <th>1320</th>\n",
       "      <td>0.980</td>\n",
       "      <td>0.979952</td>\n",
       "      <td>0.0000</td>\n",
       "    </tr>\n",
       "  </tbody>\n",
       "</table>\n",
       "<p>2387 rows × 3 columns</p>\n",
       "</div>"
      ],
      "text/plain": [
       "       true      pred   error\n",
       "1187  0.999  0.983505  0.0155\n",
       "1630  0.962  0.952089  0.0099\n",
       "2360  0.986  0.976189  0.0098\n",
       "97    0.999  1.007262  0.0083\n",
       "2078  1.000  0.992875  0.0071\n",
       "...     ...       ...     ...\n",
       "883   0.956  0.955989  0.0000\n",
       "234   0.980  0.979979  0.0000\n",
       "1771  0.968  0.967982  0.0000\n",
       "1573  0.965  0.964951  0.0000\n",
       "1320  0.980  0.979952  0.0000\n",
       "\n",
       "[2387 rows x 3 columns]"
      ]
     },
     "execution_count": 50,
     "metadata": {},
     "output_type": "execute_result"
    }
   ],
   "source": [
    "# XGB\n",
    "est = XGBRegressor(n_estimators=250, max_depth=5, learning_rate=0.5)\n",
    "predict(est, X, y_1)"
   ]
  },
  {
   "cell_type": "code",
   "execution_count": 40,
   "metadata": {},
   "outputs": [
    {
     "name": "stdout",
     "output_type": "stream",
     "text": [
      "MSE: 9.470472652794276e-07\n",
      "MAE: 0.0004996648512777262\n"
     ]
    },
    {
     "data": {
      "text/html": [
       "<div>\n",
       "<style scoped>\n",
       "    .dataframe tbody tr th:only-of-type {\n",
       "        vertical-align: middle;\n",
       "    }\n",
       "\n",
       "    .dataframe tbody tr th {\n",
       "        vertical-align: top;\n",
       "    }\n",
       "\n",
       "    .dataframe thead th {\n",
       "        text-align: right;\n",
       "    }\n",
       "</style>\n",
       "<table border=\"1\" class=\"dataframe\">\n",
       "  <thead>\n",
       "    <tr style=\"text-align: right;\">\n",
       "      <th></th>\n",
       "      <th>true</th>\n",
       "      <th>pred</th>\n",
       "      <th>error</th>\n",
       "    </tr>\n",
       "  </thead>\n",
       "  <tbody>\n",
       "    <tr>\n",
       "      <th>977</th>\n",
       "      <td>0.994</td>\n",
       "      <td>0.980120</td>\n",
       "      <td>0.0139</td>\n",
       "    </tr>\n",
       "    <tr>\n",
       "      <th>1824</th>\n",
       "      <td>1.000</td>\n",
       "      <td>0.990740</td>\n",
       "      <td>0.0093</td>\n",
       "    </tr>\n",
       "    <tr>\n",
       "      <th>402</th>\n",
       "      <td>0.997</td>\n",
       "      <td>0.987907</td>\n",
       "      <td>0.0091</td>\n",
       "    </tr>\n",
       "    <tr>\n",
       "      <th>1832</th>\n",
       "      <td>0.992</td>\n",
       "      <td>0.984847</td>\n",
       "      <td>0.0072</td>\n",
       "    </tr>\n",
       "    <tr>\n",
       "      <th>618</th>\n",
       "      <td>0.964</td>\n",
       "      <td>0.971020</td>\n",
       "      <td>0.0070</td>\n",
       "    </tr>\n",
       "    <tr>\n",
       "      <th>...</th>\n",
       "      <td>...</td>\n",
       "      <td>...</td>\n",
       "      <td>...</td>\n",
       "    </tr>\n",
       "    <tr>\n",
       "      <th>2108</th>\n",
       "      <td>0.970</td>\n",
       "      <td>0.970000</td>\n",
       "      <td>0.0000</td>\n",
       "    </tr>\n",
       "    <tr>\n",
       "      <th>445</th>\n",
       "      <td>0.971</td>\n",
       "      <td>0.970967</td>\n",
       "      <td>0.0000</td>\n",
       "    </tr>\n",
       "    <tr>\n",
       "      <th>1005</th>\n",
       "      <td>0.969</td>\n",
       "      <td>0.969013</td>\n",
       "      <td>0.0000</td>\n",
       "    </tr>\n",
       "    <tr>\n",
       "      <th>453</th>\n",
       "      <td>0.991</td>\n",
       "      <td>0.991020</td>\n",
       "      <td>0.0000</td>\n",
       "    </tr>\n",
       "    <tr>\n",
       "      <th>1444</th>\n",
       "      <td>0.992</td>\n",
       "      <td>0.992007</td>\n",
       "      <td>0.0000</td>\n",
       "    </tr>\n",
       "  </tbody>\n",
       "</table>\n",
       "<p>2387 rows × 3 columns</p>\n",
       "</div>"
      ],
      "text/plain": [
       "       true      pred   error\n",
       "977   0.994  0.980120  0.0139\n",
       "1824  1.000  0.990740  0.0093\n",
       "402   0.997  0.987907  0.0091\n",
       "1832  0.992  0.984847  0.0072\n",
       "618   0.964  0.971020  0.0070\n",
       "...     ...       ...     ...\n",
       "2108  0.970  0.970000  0.0000\n",
       "445   0.971  0.970967  0.0000\n",
       "1005  0.969  0.969013  0.0000\n",
       "453   0.991  0.991020  0.0000\n",
       "1444  0.992  0.992007  0.0000\n",
       "\n",
       "[2387 rows x 3 columns]"
      ]
     },
     "execution_count": 40,
     "metadata": {},
     "output_type": "execute_result"
    }
   ],
   "source": [
    "# RandomForest\n",
    "est = RandomForestRegressor(n_estimators=150)\n",
    "predict(est, X, y_1)"
   ]
  },
  {
   "cell_type": "code",
   "execution_count": 41,
   "metadata": {
    "scrolled": true
   },
   "outputs": [
    {
     "name": "stdout",
     "output_type": "stream",
     "text": [
      "MSE: 1.4570912546272286e-05\n",
      "MAE: 0.002831403071080294\n"
     ]
    },
    {
     "data": {
      "text/html": [
       "<div>\n",
       "<style scoped>\n",
       "    .dataframe tbody tr th:only-of-type {\n",
       "        vertical-align: middle;\n",
       "    }\n",
       "\n",
       "    .dataframe tbody tr th {\n",
       "        vertical-align: top;\n",
       "    }\n",
       "\n",
       "    .dataframe thead th {\n",
       "        text-align: right;\n",
       "    }\n",
       "</style>\n",
       "<table border=\"1\" class=\"dataframe\">\n",
       "  <thead>\n",
       "    <tr style=\"text-align: right;\">\n",
       "      <th></th>\n",
       "      <th>true</th>\n",
       "      <th>pred</th>\n",
       "      <th>error</th>\n",
       "    </tr>\n",
       "  </thead>\n",
       "  <tbody>\n",
       "    <tr>\n",
       "      <th>1877</th>\n",
       "      <td>1.000</td>\n",
       "      <td>0.985335</td>\n",
       "      <td>0.0147</td>\n",
       "    </tr>\n",
       "    <tr>\n",
       "      <th>41</th>\n",
       "      <td>0.999</td>\n",
       "      <td>0.984666</td>\n",
       "      <td>0.0143</td>\n",
       "    </tr>\n",
       "    <tr>\n",
       "      <th>219</th>\n",
       "      <td>1.000</td>\n",
       "      <td>0.986081</td>\n",
       "      <td>0.0139</td>\n",
       "    </tr>\n",
       "    <tr>\n",
       "      <th>290</th>\n",
       "      <td>0.998</td>\n",
       "      <td>0.984353</td>\n",
       "      <td>0.0136</td>\n",
       "    </tr>\n",
       "    <tr>\n",
       "      <th>608</th>\n",
       "      <td>1.000</td>\n",
       "      <td>0.986894</td>\n",
       "      <td>0.0131</td>\n",
       "    </tr>\n",
       "    <tr>\n",
       "      <th>...</th>\n",
       "      <td>...</td>\n",
       "      <td>...</td>\n",
       "      <td>...</td>\n",
       "    </tr>\n",
       "    <tr>\n",
       "      <th>1139</th>\n",
       "      <td>0.961</td>\n",
       "      <td>0.961018</td>\n",
       "      <td>0.0000</td>\n",
       "    </tr>\n",
       "    <tr>\n",
       "      <th>1016</th>\n",
       "      <td>0.951</td>\n",
       "      <td>0.950956</td>\n",
       "      <td>0.0000</td>\n",
       "    </tr>\n",
       "    <tr>\n",
       "      <th>1505</th>\n",
       "      <td>0.988</td>\n",
       "      <td>0.988030</td>\n",
       "      <td>0.0000</td>\n",
       "    </tr>\n",
       "    <tr>\n",
       "      <th>264</th>\n",
       "      <td>0.986</td>\n",
       "      <td>0.985964</td>\n",
       "      <td>0.0000</td>\n",
       "    </tr>\n",
       "    <tr>\n",
       "      <th>1525</th>\n",
       "      <td>0.984</td>\n",
       "      <td>0.983989</td>\n",
       "      <td>0.0000</td>\n",
       "    </tr>\n",
       "  </tbody>\n",
       "</table>\n",
       "<p>2387 rows × 3 columns</p>\n",
       "</div>"
      ],
      "text/plain": [
       "       true      pred   error\n",
       "1877  1.000  0.985335  0.0147\n",
       "41    0.999  0.984666  0.0143\n",
       "219   1.000  0.986081  0.0139\n",
       "290   0.998  0.984353  0.0136\n",
       "608   1.000  0.986894  0.0131\n",
       "...     ...       ...     ...\n",
       "1139  0.961  0.961018  0.0000\n",
       "1016  0.951  0.950956  0.0000\n",
       "1505  0.988  0.988030  0.0000\n",
       "264   0.986  0.985964  0.0000\n",
       "1525  0.984  0.983989  0.0000\n",
       "\n",
       "[2387 rows x 3 columns]"
      ]
     },
     "execution_count": 41,
     "metadata": {},
     "output_type": "execute_result"
    }
   ],
   "source": [
    "# SNN\n",
    "evaluate(snn)"
   ]
  },
  {
   "cell_type": "code",
   "execution_count": 42,
   "metadata": {
    "scrolled": true
   },
   "outputs": [
    {
     "name": "stdout",
     "output_type": "stream",
     "text": [
      "MSE: 9.572622154692642e-06\n",
      "MAE: 0.002762897448505755\n"
     ]
    },
    {
     "data": {
      "text/html": [
       "<div>\n",
       "<style scoped>\n",
       "    .dataframe tbody tr th:only-of-type {\n",
       "        vertical-align: middle;\n",
       "    }\n",
       "\n",
       "    .dataframe tbody tr th {\n",
       "        vertical-align: top;\n",
       "    }\n",
       "\n",
       "    .dataframe thead th {\n",
       "        text-align: right;\n",
       "    }\n",
       "</style>\n",
       "<table border=\"1\" class=\"dataframe\">\n",
       "  <thead>\n",
       "    <tr style=\"text-align: right;\">\n",
       "      <th></th>\n",
       "      <th>true</th>\n",
       "      <th>pred</th>\n",
       "      <th>error</th>\n",
       "    </tr>\n",
       "  </thead>\n",
       "  <tbody>\n",
       "    <tr>\n",
       "      <th>837</th>\n",
       "      <td>0.985</td>\n",
       "      <td>0.979546</td>\n",
       "      <td>0.0055</td>\n",
       "    </tr>\n",
       "    <tr>\n",
       "      <th>1608</th>\n",
       "      <td>0.985</td>\n",
       "      <td>0.979544</td>\n",
       "      <td>0.0055</td>\n",
       "    </tr>\n",
       "    <tr>\n",
       "      <th>882</th>\n",
       "      <td>0.984</td>\n",
       "      <td>0.978541</td>\n",
       "      <td>0.0055</td>\n",
       "    </tr>\n",
       "    <tr>\n",
       "      <th>2088</th>\n",
       "      <td>0.986</td>\n",
       "      <td>0.980541</td>\n",
       "      <td>0.0055</td>\n",
       "    </tr>\n",
       "    <tr>\n",
       "      <th>149</th>\n",
       "      <td>0.984</td>\n",
       "      <td>0.978541</td>\n",
       "      <td>0.0055</td>\n",
       "    </tr>\n",
       "    <tr>\n",
       "      <th>...</th>\n",
       "      <td>...</td>\n",
       "      <td>...</td>\n",
       "      <td>...</td>\n",
       "    </tr>\n",
       "    <tr>\n",
       "      <th>138</th>\n",
       "      <td>0.950</td>\n",
       "      <td>0.950024</td>\n",
       "      <td>0.0000</td>\n",
       "    </tr>\n",
       "    <tr>\n",
       "      <th>470</th>\n",
       "      <td>0.951</td>\n",
       "      <td>0.950993</td>\n",
       "      <td>0.0000</td>\n",
       "    </tr>\n",
       "    <tr>\n",
       "      <th>1008</th>\n",
       "      <td>0.953</td>\n",
       "      <td>0.953043</td>\n",
       "      <td>0.0000</td>\n",
       "    </tr>\n",
       "    <tr>\n",
       "      <th>954</th>\n",
       "      <td>0.951</td>\n",
       "      <td>0.951033</td>\n",
       "      <td>0.0000</td>\n",
       "    </tr>\n",
       "    <tr>\n",
       "      <th>2238</th>\n",
       "      <td>0.952</td>\n",
       "      <td>0.951979</td>\n",
       "      <td>0.0000</td>\n",
       "    </tr>\n",
       "  </tbody>\n",
       "</table>\n",
       "<p>2387 rows × 3 columns</p>\n",
       "</div>"
      ],
      "text/plain": [
       "       true      pred   error\n",
       "837   0.985  0.979546  0.0055\n",
       "1608  0.985  0.979544  0.0055\n",
       "882   0.984  0.978541  0.0055\n",
       "2088  0.986  0.980541  0.0055\n",
       "149   0.984  0.978541  0.0055\n",
       "...     ...       ...     ...\n",
       "138   0.950  0.950024  0.0000\n",
       "470   0.951  0.950993  0.0000\n",
       "1008  0.953  0.953043  0.0000\n",
       "954   0.951  0.951033  0.0000\n",
       "2238  0.952  0.951979  0.0000\n",
       "\n",
       "[2387 rows x 3 columns]"
      ]
     },
     "execution_count": 42,
     "metadata": {},
     "output_type": "execute_result"
    }
   ],
   "source": [
    "# DNN\n",
    "evaluate(dnn)"
   ]
  },
  {
   "cell_type": "markdown",
   "metadata": {},
   "source": [
    "### Turbine decay state coefficient prediction"
   ]
  },
  {
   "cell_type": "code",
   "execution_count": 43,
   "metadata": {},
   "outputs": [
    {
     "name": "stdout",
     "output_type": "stream",
     "text": [
      "MSE: 4.933485965136956e-06\n",
      "MAE: 0.0016838846883390243\n"
     ]
    },
    {
     "data": {
      "text/html": [
       "<div>\n",
       "<style scoped>\n",
       "    .dataframe tbody tr th:only-of-type {\n",
       "        vertical-align: middle;\n",
       "    }\n",
       "\n",
       "    .dataframe tbody tr th {\n",
       "        vertical-align: top;\n",
       "    }\n",
       "\n",
       "    .dataframe thead th {\n",
       "        text-align: right;\n",
       "    }\n",
       "</style>\n",
       "<table border=\"1\" class=\"dataframe\">\n",
       "  <thead>\n",
       "    <tr style=\"text-align: right;\">\n",
       "      <th></th>\n",
       "      <th>true</th>\n",
       "      <th>pred</th>\n",
       "      <th>error</th>\n",
       "    </tr>\n",
       "  </thead>\n",
       "  <tbody>\n",
       "    <tr>\n",
       "      <th>1962</th>\n",
       "      <td>1.000</td>\n",
       "      <td>0.990826</td>\n",
       "      <td>0.0092</td>\n",
       "    </tr>\n",
       "    <tr>\n",
       "      <th>1622</th>\n",
       "      <td>0.996</td>\n",
       "      <td>0.987180</td>\n",
       "      <td>0.0088</td>\n",
       "    </tr>\n",
       "    <tr>\n",
       "      <th>436</th>\n",
       "      <td>0.991</td>\n",
       "      <td>0.982319</td>\n",
       "      <td>0.0087</td>\n",
       "    </tr>\n",
       "    <tr>\n",
       "      <th>290</th>\n",
       "      <td>0.996</td>\n",
       "      <td>0.987608</td>\n",
       "      <td>0.0084</td>\n",
       "    </tr>\n",
       "    <tr>\n",
       "      <th>1347</th>\n",
       "      <td>0.996</td>\n",
       "      <td>0.987743</td>\n",
       "      <td>0.0083</td>\n",
       "    </tr>\n",
       "    <tr>\n",
       "      <th>...</th>\n",
       "      <td>...</td>\n",
       "      <td>...</td>\n",
       "      <td>...</td>\n",
       "    </tr>\n",
       "    <tr>\n",
       "      <th>875</th>\n",
       "      <td>0.985</td>\n",
       "      <td>0.985012</td>\n",
       "      <td>0.0000</td>\n",
       "    </tr>\n",
       "    <tr>\n",
       "      <th>533</th>\n",
       "      <td>0.997</td>\n",
       "      <td>0.997003</td>\n",
       "      <td>0.0000</td>\n",
       "    </tr>\n",
       "    <tr>\n",
       "      <th>919</th>\n",
       "      <td>0.990</td>\n",
       "      <td>0.990022</td>\n",
       "      <td>0.0000</td>\n",
       "    </tr>\n",
       "    <tr>\n",
       "      <th>1945</th>\n",
       "      <td>0.984</td>\n",
       "      <td>0.984042</td>\n",
       "      <td>0.0000</td>\n",
       "    </tr>\n",
       "    <tr>\n",
       "      <th>868</th>\n",
       "      <td>0.986</td>\n",
       "      <td>0.985999</td>\n",
       "      <td>0.0000</td>\n",
       "    </tr>\n",
       "  </tbody>\n",
       "</table>\n",
       "<p>2387 rows × 3 columns</p>\n",
       "</div>"
      ],
      "text/plain": [
       "       true      pred   error\n",
       "1962  1.000  0.990826  0.0092\n",
       "1622  0.996  0.987180  0.0088\n",
       "436   0.991  0.982319  0.0087\n",
       "290   0.996  0.987608  0.0084\n",
       "1347  0.996  0.987743  0.0083\n",
       "...     ...       ...     ...\n",
       "875   0.985  0.985012  0.0000\n",
       "533   0.997  0.997003  0.0000\n",
       "919   0.990  0.990022  0.0000\n",
       "1945  0.984  0.984042  0.0000\n",
       "868   0.986  0.985999  0.0000\n",
       "\n",
       "[2387 rows x 3 columns]"
      ]
     },
     "execution_count": 43,
     "metadata": {},
     "output_type": "execute_result"
    }
   ],
   "source": [
    "# OLS\n",
    "est = LinearRegression(n_jobs=-1)\n",
    "predict(est, X, y_2)"
   ]
  },
  {
   "cell_type": "code",
   "execution_count": 44,
   "metadata": {},
   "outputs": [
    {
     "name": "stdout",
     "output_type": "stream",
     "text": [
      "MSE: 5.505015434030395e-06\n",
      "MAE: 0.001753013496301211\n"
     ]
    },
    {
     "data": {
      "text/html": [
       "<div>\n",
       "<style scoped>\n",
       "    .dataframe tbody tr th:only-of-type {\n",
       "        vertical-align: middle;\n",
       "    }\n",
       "\n",
       "    .dataframe tbody tr th {\n",
       "        vertical-align: top;\n",
       "    }\n",
       "\n",
       "    .dataframe thead th {\n",
       "        text-align: right;\n",
       "    }\n",
       "</style>\n",
       "<table border=\"1\" class=\"dataframe\">\n",
       "  <thead>\n",
       "    <tr style=\"text-align: right;\">\n",
       "      <th></th>\n",
       "      <th>true</th>\n",
       "      <th>pred</th>\n",
       "      <th>error</th>\n",
       "    </tr>\n",
       "  </thead>\n",
       "  <tbody>\n",
       "    <tr>\n",
       "      <th>1361</th>\n",
       "      <td>0.998</td>\n",
       "      <td>0.988291</td>\n",
       "      <td>0.0097</td>\n",
       "    </tr>\n",
       "    <tr>\n",
       "      <th>2247</th>\n",
       "      <td>1.000</td>\n",
       "      <td>0.990405</td>\n",
       "      <td>0.0096</td>\n",
       "    </tr>\n",
       "    <tr>\n",
       "      <th>1882</th>\n",
       "      <td>0.997</td>\n",
       "      <td>0.987521</td>\n",
       "      <td>0.0095</td>\n",
       "    </tr>\n",
       "    <tr>\n",
       "      <th>140</th>\n",
       "      <td>1.000</td>\n",
       "      <td>0.990497</td>\n",
       "      <td>0.0095</td>\n",
       "    </tr>\n",
       "    <tr>\n",
       "      <th>1767</th>\n",
       "      <td>0.995</td>\n",
       "      <td>0.985713</td>\n",
       "      <td>0.0093</td>\n",
       "    </tr>\n",
       "    <tr>\n",
       "      <th>...</th>\n",
       "      <td>...</td>\n",
       "      <td>...</td>\n",
       "      <td>...</td>\n",
       "    </tr>\n",
       "    <tr>\n",
       "      <th>1712</th>\n",
       "      <td>0.988</td>\n",
       "      <td>0.987967</td>\n",
       "      <td>0.0000</td>\n",
       "    </tr>\n",
       "    <tr>\n",
       "      <th>597</th>\n",
       "      <td>0.982</td>\n",
       "      <td>0.981959</td>\n",
       "      <td>0.0000</td>\n",
       "    </tr>\n",
       "    <tr>\n",
       "      <th>1546</th>\n",
       "      <td>0.979</td>\n",
       "      <td>0.978977</td>\n",
       "      <td>0.0000</td>\n",
       "    </tr>\n",
       "    <tr>\n",
       "      <th>685</th>\n",
       "      <td>0.982</td>\n",
       "      <td>0.981957</td>\n",
       "      <td>0.0000</td>\n",
       "    </tr>\n",
       "    <tr>\n",
       "      <th>2287</th>\n",
       "      <td>0.988</td>\n",
       "      <td>0.987997</td>\n",
       "      <td>0.0000</td>\n",
       "    </tr>\n",
       "  </tbody>\n",
       "</table>\n",
       "<p>2387 rows × 3 columns</p>\n",
       "</div>"
      ],
      "text/plain": [
       "       true      pred   error\n",
       "1361  0.998  0.988291  0.0097\n",
       "2247  1.000  0.990405  0.0096\n",
       "1882  0.997  0.987521  0.0095\n",
       "140   1.000  0.990497  0.0095\n",
       "1767  0.995  0.985713  0.0093\n",
       "...     ...       ...     ...\n",
       "1712  0.988  0.987967  0.0000\n",
       "597   0.982  0.981959  0.0000\n",
       "1546  0.979  0.978977  0.0000\n",
       "685   0.982  0.981957  0.0000\n",
       "2287  0.988  0.987997  0.0000\n",
       "\n",
       "[2387 rows x 3 columns]"
      ]
     },
     "execution_count": 44,
     "metadata": {},
     "output_type": "execute_result"
    }
   ],
   "source": [
    "# Ridge\n",
    "est = Ridge(alpha=0.001)\n",
    "predict(est, X, y_2)"
   ]
  },
  {
   "cell_type": "code",
   "execution_count": 51,
   "metadata": {},
   "outputs": [
    {
     "name": "stdout",
     "output_type": "stream",
     "text": [
      "MSE: 1.1585603174085028e-06\n",
      "MAE: 0.000745542835480108\n"
     ]
    },
    {
     "data": {
      "text/html": [
       "<div>\n",
       "<style scoped>\n",
       "    .dataframe tbody tr th:only-of-type {\n",
       "        vertical-align: middle;\n",
       "    }\n",
       "\n",
       "    .dataframe tbody tr th {\n",
       "        vertical-align: top;\n",
       "    }\n",
       "\n",
       "    .dataframe thead th {\n",
       "        text-align: right;\n",
       "    }\n",
       "</style>\n",
       "<table border=\"1\" class=\"dataframe\">\n",
       "  <thead>\n",
       "    <tr style=\"text-align: right;\">\n",
       "      <th></th>\n",
       "      <th>true</th>\n",
       "      <th>pred</th>\n",
       "      <th>error</th>\n",
       "    </tr>\n",
       "  </thead>\n",
       "  <tbody>\n",
       "    <tr>\n",
       "      <th>1777</th>\n",
       "      <td>0.978</td>\n",
       "      <td>0.988531</td>\n",
       "      <td>0.0105</td>\n",
       "    </tr>\n",
       "    <tr>\n",
       "      <th>2205</th>\n",
       "      <td>0.977</td>\n",
       "      <td>0.984915</td>\n",
       "      <td>0.0079</td>\n",
       "    </tr>\n",
       "    <tr>\n",
       "      <th>999</th>\n",
       "      <td>0.975</td>\n",
       "      <td>0.982726</td>\n",
       "      <td>0.0077</td>\n",
       "    </tr>\n",
       "    <tr>\n",
       "      <th>2068</th>\n",
       "      <td>0.976</td>\n",
       "      <td>0.982599</td>\n",
       "      <td>0.0066</td>\n",
       "    </tr>\n",
       "    <tr>\n",
       "      <th>1613</th>\n",
       "      <td>0.976</td>\n",
       "      <td>0.981965</td>\n",
       "      <td>0.0060</td>\n",
       "    </tr>\n",
       "    <tr>\n",
       "      <th>...</th>\n",
       "      <td>...</td>\n",
       "      <td>...</td>\n",
       "      <td>...</td>\n",
       "    </tr>\n",
       "    <tr>\n",
       "      <th>2170</th>\n",
       "      <td>0.989</td>\n",
       "      <td>0.988990</td>\n",
       "      <td>0.0000</td>\n",
       "    </tr>\n",
       "    <tr>\n",
       "      <th>486</th>\n",
       "      <td>0.986</td>\n",
       "      <td>0.985967</td>\n",
       "      <td>0.0000</td>\n",
       "    </tr>\n",
       "    <tr>\n",
       "      <th>2178</th>\n",
       "      <td>0.976</td>\n",
       "      <td>0.975986</td>\n",
       "      <td>0.0000</td>\n",
       "    </tr>\n",
       "    <tr>\n",
       "      <th>1340</th>\n",
       "      <td>0.984</td>\n",
       "      <td>0.984011</td>\n",
       "      <td>0.0000</td>\n",
       "    </tr>\n",
       "    <tr>\n",
       "      <th>1654</th>\n",
       "      <td>0.999</td>\n",
       "      <td>0.998956</td>\n",
       "      <td>0.0000</td>\n",
       "    </tr>\n",
       "  </tbody>\n",
       "</table>\n",
       "<p>2387 rows × 3 columns</p>\n",
       "</div>"
      ],
      "text/plain": [
       "       true      pred   error\n",
       "1777  0.978  0.988531  0.0105\n",
       "2205  0.977  0.984915  0.0079\n",
       "999   0.975  0.982726  0.0077\n",
       "2068  0.976  0.982599  0.0066\n",
       "1613  0.976  0.981965  0.0060\n",
       "...     ...       ...     ...\n",
       "2170  0.989  0.988990  0.0000\n",
       "486   0.986  0.985967  0.0000\n",
       "2178  0.976  0.975986  0.0000\n",
       "1340  0.984  0.984011  0.0000\n",
       "1654  0.999  0.998956  0.0000\n",
       "\n",
       "[2387 rows x 3 columns]"
      ]
     },
     "execution_count": 51,
     "metadata": {},
     "output_type": "execute_result"
    }
   ],
   "source": [
    "# XGB\n",
    "est = XGBRegressor(n_estimators=250, max_depth=5, learning_rate=0.5)\n",
    "predict(est, X, y_2)"
   ]
  },
  {
   "cell_type": "code",
   "execution_count": 46,
   "metadata": {
    "scrolled": false
   },
   "outputs": [
    {
     "name": "stdout",
     "output_type": "stream",
     "text": [
      "MSE: 4.1818881906626256e-07\n",
      "MAE: 0.00030988409440021607\n"
     ]
    },
    {
     "data": {
      "text/html": [
       "<div>\n",
       "<style scoped>\n",
       "    .dataframe tbody tr th:only-of-type {\n",
       "        vertical-align: middle;\n",
       "    }\n",
       "\n",
       "    .dataframe tbody tr th {\n",
       "        vertical-align: top;\n",
       "    }\n",
       "\n",
       "    .dataframe thead th {\n",
       "        text-align: right;\n",
       "    }\n",
       "</style>\n",
       "<table border=\"1\" class=\"dataframe\">\n",
       "  <thead>\n",
       "    <tr style=\"text-align: right;\">\n",
       "      <th></th>\n",
       "      <th>true</th>\n",
       "      <th>pred</th>\n",
       "      <th>error</th>\n",
       "    </tr>\n",
       "  </thead>\n",
       "  <tbody>\n",
       "    <tr>\n",
       "      <th>1118</th>\n",
       "      <td>0.975</td>\n",
       "      <td>0.982047</td>\n",
       "      <td>0.0070</td>\n",
       "    </tr>\n",
       "    <tr>\n",
       "      <th>710</th>\n",
       "      <td>0.997</td>\n",
       "      <td>0.990260</td>\n",
       "      <td>0.0067</td>\n",
       "    </tr>\n",
       "    <tr>\n",
       "      <th>1981</th>\n",
       "      <td>0.975</td>\n",
       "      <td>0.981393</td>\n",
       "      <td>0.0064</td>\n",
       "    </tr>\n",
       "    <tr>\n",
       "      <th>1238</th>\n",
       "      <td>0.975</td>\n",
       "      <td>0.980820</td>\n",
       "      <td>0.0058</td>\n",
       "    </tr>\n",
       "    <tr>\n",
       "      <th>1191</th>\n",
       "      <td>0.980</td>\n",
       "      <td>0.985807</td>\n",
       "      <td>0.0058</td>\n",
       "    </tr>\n",
       "    <tr>\n",
       "      <th>...</th>\n",
       "      <td>...</td>\n",
       "      <td>...</td>\n",
       "      <td>...</td>\n",
       "    </tr>\n",
       "    <tr>\n",
       "      <th>1059</th>\n",
       "      <td>0.995</td>\n",
       "      <td>0.995007</td>\n",
       "      <td>0.0000</td>\n",
       "    </tr>\n",
       "    <tr>\n",
       "      <th>1058</th>\n",
       "      <td>0.989</td>\n",
       "      <td>0.989007</td>\n",
       "      <td>0.0000</td>\n",
       "    </tr>\n",
       "    <tr>\n",
       "      <th>1891</th>\n",
       "      <td>0.986</td>\n",
       "      <td>0.986020</td>\n",
       "      <td>0.0000</td>\n",
       "    </tr>\n",
       "    <tr>\n",
       "      <th>1895</th>\n",
       "      <td>0.986</td>\n",
       "      <td>0.985967</td>\n",
       "      <td>0.0000</td>\n",
       "    </tr>\n",
       "    <tr>\n",
       "      <th>2386</th>\n",
       "      <td>0.978</td>\n",
       "      <td>0.978000</td>\n",
       "      <td>0.0000</td>\n",
       "    </tr>\n",
       "  </tbody>\n",
       "</table>\n",
       "<p>2387 rows × 3 columns</p>\n",
       "</div>"
      ],
      "text/plain": [
       "       true      pred   error\n",
       "1118  0.975  0.982047  0.0070\n",
       "710   0.997  0.990260  0.0067\n",
       "1981  0.975  0.981393  0.0064\n",
       "1238  0.975  0.980820  0.0058\n",
       "1191  0.980  0.985807  0.0058\n",
       "...     ...       ...     ...\n",
       "1059  0.995  0.995007  0.0000\n",
       "1058  0.989  0.989007  0.0000\n",
       "1891  0.986  0.986020  0.0000\n",
       "1895  0.986  0.985967  0.0000\n",
       "2386  0.978  0.978000  0.0000\n",
       "\n",
       "[2387 rows x 3 columns]"
      ]
     },
     "execution_count": 46,
     "metadata": {},
     "output_type": "execute_result"
    }
   ],
   "source": [
    "# RandomForest\n",
    "est = RandomForestRegressor(n_estimators=150)\n",
    "predict(est, X, y_2)"
   ]
  },
  {
   "cell_type": "code",
   "execution_count": 53,
   "metadata": {},
   "outputs": [
    {
     "name": "stdout",
     "output_type": "stream",
     "text": [
      "MSE: 5.7554012844299326e-05\n",
      "MAE: 0.006441809832225753\n"
     ]
    },
    {
     "data": {
      "text/html": [
       "<div>\n",
       "<style scoped>\n",
       "    .dataframe tbody tr th:only-of-type {\n",
       "        vertical-align: middle;\n",
       "    }\n",
       "\n",
       "    .dataframe tbody tr th {\n",
       "        vertical-align: top;\n",
       "    }\n",
       "\n",
       "    .dataframe thead th {\n",
       "        text-align: right;\n",
       "    }\n",
       "</style>\n",
       "<table border=\"1\" class=\"dataframe\">\n",
       "  <thead>\n",
       "    <tr style=\"text-align: right;\">\n",
       "      <th></th>\n",
       "      <th>true</th>\n",
       "      <th>pred</th>\n",
       "      <th>error</th>\n",
       "    </tr>\n",
       "  </thead>\n",
       "  <tbody>\n",
       "    <tr>\n",
       "      <th>1909</th>\n",
       "      <td>0.975</td>\n",
       "      <td>0.991511</td>\n",
       "      <td>0.0165</td>\n",
       "    </tr>\n",
       "    <tr>\n",
       "      <th>1538</th>\n",
       "      <td>0.975</td>\n",
       "      <td>0.991358</td>\n",
       "      <td>0.0164</td>\n",
       "    </tr>\n",
       "    <tr>\n",
       "      <th>1458</th>\n",
       "      <td>0.975</td>\n",
       "      <td>0.991200</td>\n",
       "      <td>0.0162</td>\n",
       "    </tr>\n",
       "    <tr>\n",
       "      <th>2049</th>\n",
       "      <td>0.975</td>\n",
       "      <td>0.991104</td>\n",
       "      <td>0.0161</td>\n",
       "    </tr>\n",
       "    <tr>\n",
       "      <th>1384</th>\n",
       "      <td>0.975</td>\n",
       "      <td>0.990994</td>\n",
       "      <td>0.0160</td>\n",
       "    </tr>\n",
       "    <tr>\n",
       "      <th>...</th>\n",
       "      <td>...</td>\n",
       "      <td>...</td>\n",
       "      <td>...</td>\n",
       "    </tr>\n",
       "    <tr>\n",
       "      <th>317</th>\n",
       "      <td>0.990</td>\n",
       "      <td>0.989991</td>\n",
       "      <td>0.0000</td>\n",
       "    </tr>\n",
       "    <tr>\n",
       "      <th>2043</th>\n",
       "      <td>0.987</td>\n",
       "      <td>0.986964</td>\n",
       "      <td>0.0000</td>\n",
       "    </tr>\n",
       "    <tr>\n",
       "      <th>1307</th>\n",
       "      <td>0.991</td>\n",
       "      <td>0.991004</td>\n",
       "      <td>0.0000</td>\n",
       "    </tr>\n",
       "    <tr>\n",
       "      <th>843</th>\n",
       "      <td>0.991</td>\n",
       "      <td>0.990995</td>\n",
       "      <td>0.0000</td>\n",
       "    </tr>\n",
       "    <tr>\n",
       "      <th>1072</th>\n",
       "      <td>0.991</td>\n",
       "      <td>0.990993</td>\n",
       "      <td>0.0000</td>\n",
       "    </tr>\n",
       "  </tbody>\n",
       "</table>\n",
       "<p>2387 rows × 3 columns</p>\n",
       "</div>"
      ],
      "text/plain": [
       "       true      pred   error\n",
       "1909  0.975  0.991511  0.0165\n",
       "1538  0.975  0.991358  0.0164\n",
       "1458  0.975  0.991200  0.0162\n",
       "2049  0.975  0.991104  0.0161\n",
       "1384  0.975  0.990994  0.0160\n",
       "...     ...       ...     ...\n",
       "317   0.990  0.989991  0.0000\n",
       "2043  0.987  0.986964  0.0000\n",
       "1307  0.991  0.991004  0.0000\n",
       "843   0.991  0.990995  0.0000\n",
       "1072  0.991  0.990993  0.0000\n",
       "\n",
       "[2387 rows x 3 columns]"
      ]
     },
     "execution_count": 53,
     "metadata": {},
     "output_type": "execute_result"
    }
   ],
   "source": [
    "# SNN\n",
    "snn.fit(X_train, y_train_2, batch_size=128, epochs=500, validation_data=(X_test, y_test_2), verbose=0, callbacks=[stop])\n",
    "evaluate(snn, y=y_test_2)"
   ]
  },
  {
   "cell_type": "code",
   "execution_count": 54,
   "metadata": {},
   "outputs": [
    {
     "name": "stdout",
     "output_type": "stream",
     "text": [
      "MSE: 5.5279970912879836e-05\n",
      "MAE: 0.006388910562062197\n"
     ]
    },
    {
     "data": {
      "text/html": [
       "<div>\n",
       "<style scoped>\n",
       "    .dataframe tbody tr th:only-of-type {\n",
       "        vertical-align: middle;\n",
       "    }\n",
       "\n",
       "    .dataframe tbody tr th {\n",
       "        vertical-align: top;\n",
       "    }\n",
       "\n",
       "    .dataframe thead th {\n",
       "        text-align: right;\n",
       "    }\n",
       "</style>\n",
       "<table border=\"1\" class=\"dataframe\">\n",
       "  <thead>\n",
       "    <tr style=\"text-align: right;\">\n",
       "      <th></th>\n",
       "      <th>true</th>\n",
       "      <th>pred</th>\n",
       "      <th>error</th>\n",
       "    </tr>\n",
       "  </thead>\n",
       "  <tbody>\n",
       "    <tr>\n",
       "      <th>387</th>\n",
       "      <td>1.000</td>\n",
       "      <td>0.983842</td>\n",
       "      <td>0.0162</td>\n",
       "    </tr>\n",
       "    <tr>\n",
       "      <th>352</th>\n",
       "      <td>1.000</td>\n",
       "      <td>0.984242</td>\n",
       "      <td>0.0158</td>\n",
       "    </tr>\n",
       "    <tr>\n",
       "      <th>321</th>\n",
       "      <td>1.000</td>\n",
       "      <td>0.984518</td>\n",
       "      <td>0.0155</td>\n",
       "    </tr>\n",
       "    <tr>\n",
       "      <th>1224</th>\n",
       "      <td>1.000</td>\n",
       "      <td>0.984580</td>\n",
       "      <td>0.0154</td>\n",
       "    </tr>\n",
       "    <tr>\n",
       "      <th>915</th>\n",
       "      <td>0.999</td>\n",
       "      <td>0.983746</td>\n",
       "      <td>0.0153</td>\n",
       "    </tr>\n",
       "    <tr>\n",
       "      <th>...</th>\n",
       "      <td>...</td>\n",
       "      <td>...</td>\n",
       "      <td>...</td>\n",
       "    </tr>\n",
       "    <tr>\n",
       "      <th>2231</th>\n",
       "      <td>0.987</td>\n",
       "      <td>0.987024</td>\n",
       "      <td>0.0000</td>\n",
       "    </tr>\n",
       "    <tr>\n",
       "      <th>170</th>\n",
       "      <td>0.987</td>\n",
       "      <td>0.986986</td>\n",
       "      <td>0.0000</td>\n",
       "    </tr>\n",
       "    <tr>\n",
       "      <th>2003</th>\n",
       "      <td>0.987</td>\n",
       "      <td>0.986961</td>\n",
       "      <td>0.0000</td>\n",
       "    </tr>\n",
       "    <tr>\n",
       "      <th>1294</th>\n",
       "      <td>0.987</td>\n",
       "      <td>0.986979</td>\n",
       "      <td>0.0000</td>\n",
       "    </tr>\n",
       "    <tr>\n",
       "      <th>1796</th>\n",
       "      <td>0.987</td>\n",
       "      <td>0.987012</td>\n",
       "      <td>0.0000</td>\n",
       "    </tr>\n",
       "  </tbody>\n",
       "</table>\n",
       "<p>2387 rows × 3 columns</p>\n",
       "</div>"
      ],
      "text/plain": [
       "       true      pred   error\n",
       "387   1.000  0.983842  0.0162\n",
       "352   1.000  0.984242  0.0158\n",
       "321   1.000  0.984518  0.0155\n",
       "1224  1.000  0.984580  0.0154\n",
       "915   0.999  0.983746  0.0153\n",
       "...     ...       ...     ...\n",
       "2231  0.987  0.987024  0.0000\n",
       "170   0.987  0.986986  0.0000\n",
       "2003  0.987  0.986961  0.0000\n",
       "1294  0.987  0.986979  0.0000\n",
       "1796  0.987  0.987012  0.0000\n",
       "\n",
       "[2387 rows x 3 columns]"
      ]
     },
     "execution_count": 54,
     "metadata": {},
     "output_type": "execute_result"
    }
   ],
   "source": [
    "# DNN\n",
    "dnn.fit(X_train, y_train_2, batch_size=128, epochs=500, validation_data=(X_test, y_test_2), verbose=0, callbacks=[stop])\n",
    "evaluate(dnn, y=y_test_2)"
   ]
  },
  {
   "cell_type": "markdown",
   "metadata": {},
   "source": [
    "<a id='conclusion'></a>\n",
    "## Conclusion"
   ]
  },
  {
   "cell_type": "markdown",
   "metadata": {},
   "source": [
    "During the project work, the propulsion plants preventive maintenance possibility was examined. The gas compressor and turbine decay state coefficients were predicted based on the Data Driven Model GT parameters.\n",
    "\n",
    "The model showed the best results is __Random Forest__ algorithm with the performance:\n",
    "MSE = 9.5e-07, and MAE = 0.0005 for Compressor Decay State Coefficient;\n",
    "MSE = 4.2e-07, and MAE = 0.0003 for Turbine Decay State Coefficient.\n",
    "\n",
    "Neural Networks also have high performance, moreover, with a fine tuning even higher scores can be achieved.\n",
    "\n",
    "The performance of each model is accurate enough to be used in the industrial applications. The final model can be chosen between the explored based on the time and power efficiency.\n",
    "\n",
    "\n",
    "It turned out, that the models fitted with the 14 features (all except constant compressor inlet air temperature and pressure features) show more accurate results than the ones fitted with the chosen set of 5 parameters (in accordance with the correlation matrix)."
   ]
  }
 ],
 "metadata": {
  "kernelspec": {
   "display_name": "Python 3",
   "language": "python",
   "name": "python3"
  },
  "language_info": {
   "codemirror_mode": {
    "name": "ipython",
    "version": 3
   },
   "file_extension": ".py",
   "mimetype": "text/x-python",
   "name": "python",
   "nbconvert_exporter": "python",
   "pygments_lexer": "ipython3",
   "version": "3.8.3"
  }
 },
 "nbformat": 4,
 "nbformat_minor": 4
}
